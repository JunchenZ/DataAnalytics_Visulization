{
 "cells": [
  {
   "cell_type": "markdown",
   "metadata": {},
   "source": [
    "# Data Analysis and Vis, HW 5\n",
    "*Adapted from COMP 5360 / MATH 4100, University of Utah, http://datasciencecourse.net/*\n",
    "\n",
    "Due: July 11\n",
    "\n",
    "In this homework, you will use classification methods to classify handwritten digits (Part 1) and predict the popularity of online news (Part 2). We hope these exercises will give you an idea of the broad usage of classificaiton methods. "
   ]
  },
  {
   "cell_type": "code",
   "execution_count": 1,
   "metadata": {},
   "outputs": [],
   "source": [
    "# imports and setup \n",
    "\n",
    "import pandas as pd\n",
    "import numpy as np\n",
    "\n",
    "from sklearn import tree, svm, metrics\n",
    "from sklearn.neighbors import KNeighborsClassifier\n",
    "from sklearn.model_selection import train_test_split, cross_val_predict, cross_val_score, KFold\n",
    "from sklearn.datasets import load_digits\n",
    "from sklearn.preprocessing import scale\n",
    "\n",
    "import matplotlib.pyplot as plt\n",
    "%matplotlib inline\n",
    "plt.rcParams['figure.figsize'] = (10, 6)\n",
    "plt.style.use('ggplot')"
   ]
  },
  {
   "cell_type": "markdown",
   "metadata": {},
   "source": [
    "## Part1: MNIST handwritten digits\n",
    "\n",
    "THE MNIST handwritten digit dataset consists of images of handwritten digits, together with labels indicating which digit is in each image. You will see that images are just matrices with scalar values, and that we can use all the classifcation algorithms we studied on them.  We saw these in class when we looked at clustering methods.\n",
    "\n",
    "Becaue both the features and the labels are present in this dataset (and labels for large datasets are generally difficult/expensive to obtain), this dataset is frequently used as a benchmark to compare various classification methods. \n",
    "For example, [this webpage](http://yann.lecun.com/exdb/mnist/) gives a comparison of a variety of different classification methods on MNIST (Note that the tests on this website are for higher resolution images than we'll use.) \n",
    "\n",
    "In this problem, we'll use scikit-learn to compare classification methods on the MNIST dataset. \n",
    "\n",
    "There are several versions of the MNIST dataset. We'll use the one that is built-into scikit-learn, described [here](http://scikit-learn.org/stable/modules/generated/sklearn.datasets.load_digits.html). \n",
    "\n",
    "* Classes: 10 (one for each digit)\n",
    "* Samples total: 1797\n",
    "* Samples per class: $\\approx$180\n",
    "* Dimensionality: 64 (8 pixels by 8 pixels)\n",
    "* Features: integers 0-16 (grayscale value; 0 is white, 16 is black)\n",
    "\n",
    "Here are some examples of the images. Note that the digits have been size-normalized and centered in a fixed-size ($8\\times8$ pixels) image.\n",
    "\n",
    "<img src=\"http://scikit-learn.org/stable/_images/sphx_glr_plot_digits_classification_001.png\" width=\"500\">"
   ]
  },
  {
   "cell_type": "markdown",
   "metadata": {},
   "source": [
    "Note that we will scale the data before running them through our algorithms, which will also alter their appearance when we plot them. You can read details about scaling and why it's important [here](http://scikit-learn.org/stable/modules/preprocessing.html#standardization-or-mean-removal-and-variance-scaling)."
   ]
  },
  {
   "cell_type": "code",
   "execution_count": 2,
   "metadata": {},
   "outputs": [
    {
     "name": "stdout",
     "output_type": "stream",
     "text": [
      "<class 'numpy.ndarray'>\n",
      "n_digits: 10, n_samples 1797, n_features 64\n"
     ]
    }
   ],
   "source": [
    "digits = load_digits()\n",
    "X = scale(digits.data)\n",
    "y = digits.target\n",
    "print(type(X))\n",
    "\n",
    "n_samples, n_features = X.shape\n",
    "n_digits = len(np.unique(digits.target))\n",
    "print(\"n_digits: %d, n_samples %d, n_features %d\" % (n_digits, n_samples, n_features))"
   ]
  },
  {
   "cell_type": "code",
   "execution_count": 3,
   "metadata": {},
   "outputs": [
    {
     "name": "stdout",
     "output_type": "stream",
     "text": [
      "===\n",
      "The raw data\n",
      "[[ 0.  0.  5. 13.  9.  1.  0.  0.]\n",
      " [ 0.  0. 13. 15. 10. 15.  5.  0.]\n",
      " [ 0.  3. 15.  2.  0. 11.  8.  0.]\n",
      " [ 0.  4. 12.  0.  0.  8.  8.  0.]\n",
      " [ 0.  5.  8.  0.  0.  9.  8.  0.]\n",
      " [ 0.  4. 11.  0.  1. 12.  7.  0.]\n",
      " [ 0.  2. 14.  5. 10. 12.  0.  0.]\n",
      " [ 0.  0.  6. 13. 10.  0.  0.  0.]]\n",
      "===\n",
      "The scaled data\n",
      "[ 0.         -0.33501649 -0.04308102  0.27407152 -0.66447751 -0.84412939\n",
      " -0.40972392 -0.12502292 -0.05907756 -0.62400926  0.4829745   0.75962245\n",
      " -0.05842586  1.12772113  0.87958306 -0.13043338 -0.04462507  0.11144272\n",
      "  0.89588044 -0.86066632 -1.14964846  0.51547187  1.90596347 -0.11422184\n",
      " -0.03337973  0.48648928  0.46988512 -1.49990136 -1.61406277  0.07639777\n",
      "  1.54181413 -0.04723238  0.          0.76465553  0.05263019 -1.44763006\n",
      " -1.73666443  0.04361588  1.43955804  0.         -0.06134367  0.8105536\n",
      "  0.63011714 -1.12245711 -1.06623158  0.66096475  0.81845076 -0.08874162\n",
      " -0.03543326  0.74211893  1.15065212 -0.86867056  0.11012973  0.53761116\n",
      " -0.75743581 -0.20978513 -0.02359646 -0.29908135  0.08671869  0.20829258\n",
      " -0.36677122 -1.14664746 -0.5056698  -0.19600752]\n",
      "===\n",
      "The digit\n",
      "0\n"
     ]
    }
   ],
   "source": [
    "# this is what one digit (a zero) looks like\n",
    "print(\"===\\nThe raw data\")\n",
    "print(digits.images[0])\n",
    "print(\"===\\nThe scaled data\")\n",
    "print(X[0])\n",
    "print(\"===\\nThe digit\")\n",
    "print(digits.target[0])"
   ]
  },
  {
   "cell_type": "code",
   "execution_count": 4,
   "metadata": {},
   "outputs": [
    {
     "data": {
      "image/png": "[encoded data removed]",
      "text/plain": [
       "<Figure size 720x720 with 25 Axes>"
      ]
     },
     "metadata": {},
     "output_type": "display_data"
    }
   ],
   "source": [
    "plt.figure(figsize= (10, 10))    \n",
    "for ii in np.arange(25):\n",
    "    plt.subplot(5, 5, ii+1)\n",
    "    plt.imshow(np.reshape(X[ii,:],(8,8)), cmap='Greys',interpolation='nearest')\n",
    "    plt.axis('off')\n",
    "plt.show()"
   ]
  },
  {
   "cell_type": "markdown",
   "metadata": {},
   "source": [
    "You might find [this webpage](http://scikit-learn.org/stable/tutorial/basic/tutorial.html) helpful. "
   ]
  },
  {
   "cell_type": "markdown",
   "metadata": {},
   "source": [
    "### Task 1.1: Classification with Support Vector Machines (SVM)\n",
    "\n",
    "1. Split the data into a training and test set using the command \n",
    "```\n",
    "train_test_split(X, y, random_state=1, test_size=0.8)\n",
    "```\n",
    "+ Use SVM with an `rbf` kernel and parameter `C=100` to build a classifier using the *training dataset*.\n",
    "+ Using the *test dataset*, evaluate the accuracy of the model. Again using the *test dataset*, compute the confusion matrix. What is the most common mistake that the classifier makes? \n",
    "+ Print all of these misclassified digits as images. \n",
    "+ Using the 'cross_val_score' function, evaluate the accuracy of the SVM for 100 different values of the parameter C between 1 and 500. What is the best value? \n",
    "+ Try to train and test the algorithm on the raw (non-scaled) data. What's your accuracy score?"
   ]
  },
  {
   "cell_type": "code",
   "execution_count": 5,
   "metadata": {},
   "outputs": [
    {
     "name": "stdout",
     "output_type": "stream",
     "text": [
      "Accuracy =  0.952712100139082\n",
      "Confusion Matrix:\n",
      "[[130   0   0   0   0   0   0   0   0   0]\n",
      " [  0 140   4   0   0   0   0   1   4   0]\n",
      " [  0   1 134   0   0   0   0   2   5   0]\n",
      " [  0   0   3 136   0   0   0   3   4   1]\n",
      " [  0   0   0   0 140   0   0  12   0   0]\n",
      " [  0   0   0   0   0 141   1   0   1   4]\n",
      " [  0   1   0   0   0   0 144   0   1   0]\n",
      " [  0   0   0   0   0   0   0 139   0   1]\n",
      " [  0   4   0   1   0   1   0   1 126   0]\n",
      " [  0   2   0   2   0   3   1   2   2 140]]\n"
     ]
    }
   ],
   "source": [
    "# 1\n",
    "X_train, X_test, y_train, y_test = train_test_split(X, y, random_state=1, test_size=0.8)\n",
    "# 2\n",
    "model = svm.SVC(kernel='rbf',C=100)\n",
    "model.fit(X_train, y_train)\n",
    "# 3\n",
    "y_pred = model.predict(X_test)\n",
    "print('Accuracy = ', metrics.accuracy_score(y_true = y_test, y_pred = y_pred))\n",
    "print('Confusion Matrix:')\n",
    "print(metrics.confusion_matrix(y_true = y_test, y_pred = y_pred))"
   ]
  },
  {
   "cell_type": "markdown",
   "metadata": {},
   "source": [
    "#### Common mistakes:\n",
    "From the matrix above we can see that 12 is the biggest number except the correct prediction. Since its row number is 4 and column number is 7, so the most common mistake is predicting the result as 7 while it's actually 4."
   ]
  },
  {
   "cell_type": "code",
   "execution_count": 6,
   "metadata": {},
   "outputs": [
    {
     "data": {
      "image/png": "[encoded data removed]",
      "text/plain": [
       "<Figure size 720x720 with 68 Axes>"
      ]
     },
     "metadata": {},
     "output_type": "display_data"
    }
   ],
   "source": [
    "# 4\n",
    "plt.figure(figsize= (10, 10)) \n",
    "j = 0\n",
    "for i in range(len(y_pred)):\n",
    "    if y_pred[i] != y_test[i]:\n",
    "        plt.subplot(8, 9, j+1)\n",
    "        j += 1\n",
    "        plt.imshow(np.reshape(X_test[i,:],(8,8)), cmap='Greys',interpolation='nearest')\n",
    "        plt.axis('off')\n",
    "plt.show()"
   ]
  },
  {
   "cell_type": "code",
   "execution_count": 7,
   "metadata": {},
   "outputs": [
    {
     "name": "stdout",
     "output_type": "stream",
     "text": [
      "The best score is 0.9576898692009902, its C value is 6\n"
     ]
    }
   ],
   "source": [
    "# 5\n",
    "best_score = [0, 0] #index and value\n",
    "for i in range(1, 500, 5):\n",
    "    model = svm.SVC(kernel='rbf',C=i)\n",
    "    scores = cross_val_score(estimator = model, X = X, y = y, scoring='accuracy')\n",
    "    scores = scores.mean()\n",
    "    if scores > best_score[1]:\n",
    "            best_score[1] = scores\n",
    "            best_score[0] = i\n",
    "print('The best score is ' + str(best_score[1]) + ', its C value is ' + str(best_score[0]))"
   ]
  },
  {
   "cell_type": "code",
   "execution_count": 8,
   "metadata": {},
   "outputs": [
    {
     "name": "stdout",
     "output_type": "stream",
     "text": [
      "Accuracy =  0.11821974965229486\n",
      "Confusion Matrix:\n",
      "[[130   0   0   0   0   0   0   0   0   0]\n",
      " [131  18   0   0   0   0   0   0   0   0]\n",
      " [140   0   2   0   0   0   0   0   0   0]\n",
      " [147   0   0   0   0   0   0   0   0   0]\n",
      " [152   0   0   0   0   0   0   0   0   0]\n",
      " [147   0   0   0   0   0   0   0   0   0]\n",
      " [139   0   0   0   0   0   7   0   0   0]\n",
      " [128   0   0   0   0   0   0  12   0   0]\n",
      " [132   0   0   0   0   0   0   0   1   0]\n",
      " [152   0   0   0   0   0   0   0   0   0]]\n"
     ]
    }
   ],
   "source": [
    "# 6\n",
    "digits = load_digits()\n",
    "X = digits.data\n",
    "y = digits.target\n",
    "X_train, X_test, y_train, y_test = train_test_split(X, y, random_state=1, test_size=0.8)\n",
    "model = svm.SVC(kernel='rbf',C=100)\n",
    "model.fit(X_train, y_train)\n",
    "y_pred = model.predict(X_test)\n",
    "print('Accuracy = ', metrics.accuracy_score(y_true = y_test, y_pred = y_pred))\n",
    "print('Confusion Matrix:')\n",
    "print(metrics.confusion_matrix(y_true = y_test, y_pred = y_pred))"
   ]
  },
  {
   "cell_type": "markdown",
   "metadata": {},
   "source": [
    "**Interpretation**:\n",
    "\n",
    "SVM did a great job as the accuracy is pretty good. Scaling does matter for the classification. The accuracy decreses from 0.95 to 0.11 without scaling. And the confusion matrix is very bad as the diagonal values is very small. (Many wrong prediction)"
   ]
  },
  {
   "cell_type": "markdown",
   "metadata": {},
   "source": [
    "### Task 1.2: Prediction with k-nearest neighbors\n",
    "Repeat task 1.1 using k-nearest neighbors (k-NN). In part 1, use k=10. In part 3, find the best value of k. "
   ]
  },
  {
   "cell_type": "code",
   "execution_count": 9,
   "metadata": {},
   "outputs": [
    {
     "name": "stdout",
     "output_type": "stream",
     "text": [
      "Accuracy =  0.9123783031988874\n",
      "Confusion Matrix:\n",
      "[[130   0   0   0   0   0   0   0   0   0]\n",
      " [  0 137  11   0   0   0   0   0   1   0]\n",
      " [  2   4 123   2   0   0   0   2   9   0]\n",
      " [  1   0   1 133   0   1   0   6   4   1]\n",
      " [  0   0   0   0 147   0   0   4   1   0]\n",
      " [  1   1   0   2   1 136   1   0   0   5]\n",
      " [  0   2   0   0   0   0 143   0   1   0]\n",
      " [  0   0   0   0   0   0   0 139   1   0]\n",
      " [  0   9   1   6   0   0   0   1 115   1]\n",
      " [  5  10   0   5   1   3   2   9   8 109]]\n"
     ]
    }
   ],
   "source": [
    "# 1\n",
    "digits = load_digits()\n",
    "X = scale(digits.data)\n",
    "y = digits.target\n",
    "X_train, X_test, y_train, y_test = train_test_split(X, y, random_state=1, test_size=0.8)\n",
    "# 2\n",
    "clf = KNeighborsClassifier(n_neighbors=10)\n",
    "clf.fit(X_train, y_train)\n",
    "# 3\n",
    "y_pred = clf.predict(X_test)\n",
    "print('Accuracy = ', metrics.accuracy_score(y_true = y_test, y_pred = y_pred))\n",
    "print('Confusion Matrix:')\n",
    "print(metrics.confusion_matrix(y_true = y_test, y_pred = y_pred))"
   ]
  },
  {
   "cell_type": "markdown",
   "metadata": {},
   "source": [
    "#### Common mistakes:\n",
    "From the matrix above we can see that 11 is the biggest number except the correct prediction. Since its row number is 1 and column number is 2, so the most common mistake is predicting the result as 2 while it's actually 1."
   ]
  },
  {
   "cell_type": "code",
   "execution_count": 10,
   "metadata": {},
   "outputs": [
    {
     "data": {
      "image/png": "[encoded data removed]",
      "text/plain": [
       "<Figure size 720x720 with 126 Axes>"
      ]
     },
     "metadata": {},
     "output_type": "display_data"
    }
   ],
   "source": [
    "# 4\n",
    "plt.figure(figsize= (10, 10)) \n",
    "j = 0\n",
    "for i in range(len(y_pred)):\n",
    "    if y_pred[i] != y_test[i]:\n",
    "        plt.subplot(12, 12, j+1)\n",
    "        j += 1\n",
    "        plt.imshow(np.reshape(X_test[i,:],(8,8)), cmap='Greys',interpolation='nearest')\n",
    "        plt.axis('off')\n",
    "plt.show()"
   ]
  },
  {
   "cell_type": "code",
   "execution_count": 11,
   "metadata": {},
   "outputs": [
    {
     "name": "stdout",
     "output_type": "stream",
     "text": [
      "The best score is 0.9454497365940219, its k value is 6\n"
     ]
    }
   ],
   "source": [
    "# 5\n",
    "best_score = [0, 0]\n",
    "for k in range(1, 500, 5):\n",
    "    clf = KNeighborsClassifier(n_neighbors=k)\n",
    "    scores = cross_val_score(estimator = clf, X = X, y = y, scoring='accuracy')\n",
    "    scores = scores.mean()\n",
    "    if scores > best_score[1]:\n",
    "            best_score[1] = scores\n",
    "            best_score[0] = k\n",
    "print('The best score is ' + str(best_score[1]) + ', its k value is ' + str(best_score[0]))"
   ]
  },
  {
   "cell_type": "code",
   "execution_count": 12,
   "metadata": {},
   "outputs": [
    {
     "name": "stdout",
     "output_type": "stream",
     "text": [
      "Accuracy =  0.9388038942976356\n",
      "Confusion Matrix:\n",
      "[[130   0   0   0   0   0   0   0   0   0]\n",
      " [  0 146   0   1   1   1   0   0   0   0]\n",
      " [  2   3 128   0   0   0   0   2   7   0]\n",
      " [  0   0   0 135   0   2   0   6   3   1]\n",
      " [  0   0   0   0 150   0   0   2   0   0]\n",
      " [  0   0   0   3   1 139   1   0   0   3]\n",
      " [  0   1   0   0   0   0 144   0   1   0]\n",
      " [  0   0   0   0   0   0   0 140   0   0]\n",
      " [  0   6   2   4   0   1   0   1 117   2]\n",
      " [  2   8   0   6   0   3   0   9   3 121]]\n"
     ]
    }
   ],
   "source": [
    "# 6\n",
    "digits = load_digits()\n",
    "X = digits.data\n",
    "y = digits.target\n",
    "X_train, X_test, y_train, y_test = train_test_split(X, y, random_state=1, test_size=0.8)\n",
    "clf = KNeighborsClassifier(n_neighbors=10)\n",
    "clf.fit(X_train, y_train)\n",
    "y_pred = clf.predict(X_test)\n",
    "print('Accuracy = ', metrics.accuracy_score(y_true = y_test, y_pred = y_pred))\n",
    "print('Confusion Matrix:')\n",
    "print(metrics.confusion_matrix(y_true = y_test, y_pred = y_pred))"
   ]
  },
  {
   "cell_type": "markdown",
   "metadata": {},
   "source": [
    "**Interpretation**:\n",
    "\n",
    "KNN did a great job as the accuracy is better than svm. Scaling is not necessary for the classification. The accuracy increases from 0.912 to 0.938 without scaling. And the confusion matrix looks better, too."
   ]
  },
  {
   "cell_type": "markdown",
   "metadata": {},
   "source": [
    "# Part 2: Popularity of online news\n",
    "\n",
    "For this problem, you will use classification tools to predict the popularity of online news based on attributes such as the length of the article, the number of images, the day of the week that the article was published, and some variables related to the content of the article. You can learn details about the datasetat the\n",
    "[UCI Machine Learning Repository](https://archive.ics.uci.edu/ml/datasets/Online+News+Popularity). \n",
    "This dataset was first used in the following conference paper: \n",
    "\n",
    "K. Fernandes, P. Vinagre and P. Cortez. A Proactive Intelligent Decision Support System for Predicting the Popularity of Online News. *Proceedings of the 17th EPIA 2015 - Portuguese Conference on Artificial Intelligence* (2015).\n",
    "\n",
    "The dataset contains variables describing 39,644 articles published between January 7, 2013 and Januyary 7, 2015 on the news website, [Mashable](http://mashable.com/). \n",
    "There are 61 variables associated with each article. Of these, 58 are *predictor* variables, 2 are variables that we will not use (url and timedelta), and finally the number of shares of each article. The number of shares is what we will use to define whether or not the article was *popular*, which is what we will try to predict. You should read about the predictor variables in the file *OnlineNewsPopularity.names*. Further details about the collection and processing of the articles can be found in the conference paper. \n",
    "\n",
    "\n",
    "### Task 2.1 Import the data \n",
    "* Use the pandas.read_csv() function to import the dataset.\n",
    "* To us[scikit-learn](http://scikit-learn.org), we'll need to save the data as a numpy array. Use the *DataFrame.as_matrix()* command to export the predictor variables as a numpy array called *X* this array should not include our target variable (the number of shares). We don't need the url and timedelta, so let's drop these columns. \n",
    "* Export the number of shares as a separate numpy array, called *shares*. We'll define an article to be popular if it received more shares than the median number of shares. Create a binary numpy array, *y*, which indicates whether or not each article is popular."
   ]
  },
  {
   "cell_type": "code",
   "execution_count": 13,
   "metadata": {},
   "outputs": [
    {
     "data": {
      "text/html": [
       "<div>\n",
       "<style scoped>\n",
       "    .dataframe tbody tr th:only-of-type {\n",
       "        vertical-align: middle;\n",
       "    }\n",
       "\n",
       "    .dataframe tbody tr th {\n",
       "        vertical-align: top;\n",
       "    }\n",
       "\n",
       "    .dataframe thead th {\n",
       "        text-align: right;\n",
       "    }\n",
       "</style>\n",
       "<table border=\"1\" class=\"dataframe\">\n",
       "  <thead>\n",
       "    <tr style=\"text-align: right;\">\n",
       "      <th></th>\n",
       "      <th>url</th>\n",
       "      <th>timedelta</th>\n",
       "      <th>n_tokens_title</th>\n",
       "      <th>n_tokens_content</th>\n",
       "      <th>n_unique_tokens</th>\n",
       "      <th>n_non_stop_words</th>\n",
       "      <th>n_non_stop_unique_tokens</th>\n",
       "      <th>num_hrefs</th>\n",
       "      <th>num_self_hrefs</th>\n",
       "      <th>num_imgs</th>\n",
       "      <th>...</th>\n",
       "      <th>min_positive_polarity</th>\n",
       "      <th>max_positive_polarity</th>\n",
       "      <th>avg_negative_polarity</th>\n",
       "      <th>min_negative_polarity</th>\n",
       "      <th>max_negative_polarity</th>\n",
       "      <th>title_subjectivity</th>\n",
       "      <th>title_sentiment_polarity</th>\n",
       "      <th>abs_title_subjectivity</th>\n",
       "      <th>abs_title_sentiment_polarity</th>\n",
       "      <th>shares</th>\n",
       "    </tr>\n",
       "  </thead>\n",
       "  <tbody>\n",
       "    <tr>\n",
       "      <th>0</th>\n",
       "      <td>http://mashable.com/2013/01/07/amazon-instant-...</td>\n",
       "      <td>731.0</td>\n",
       "      <td>12.0</td>\n",
       "      <td>219.0</td>\n",
       "      <td>0.663594</td>\n",
       "      <td>1.0</td>\n",
       "      <td>0.815385</td>\n",
       "      <td>4.0</td>\n",
       "      <td>2.0</td>\n",
       "      <td>1.0</td>\n",
       "      <td>...</td>\n",
       "      <td>0.1</td>\n",
       "      <td>0.7</td>\n",
       "      <td>-0.35</td>\n",
       "      <td>-0.6</td>\n",
       "      <td>-0.2</td>\n",
       "      <td>0.5</td>\n",
       "      <td>-0.1875</td>\n",
       "      <td>0.0</td>\n",
       "      <td>0.1875</td>\n",
       "      <td>593</td>\n",
       "    </tr>\n",
       "  </tbody>\n",
       "</table>\n",
       "<p>1 rows × 61 columns</p>\n",
       "</div>"
      ],
      "text/plain": [
       "                                                 url   timedelta  \\\n",
       "0  http://mashable.com/2013/01/07/amazon-instant-...       731.0   \n",
       "\n",
       "    n_tokens_title   n_tokens_content   n_unique_tokens   n_non_stop_words  \\\n",
       "0             12.0              219.0          0.663594                1.0   \n",
       "\n",
       "    n_non_stop_unique_tokens   num_hrefs   num_self_hrefs   num_imgs   ...     \\\n",
       "0                   0.815385         4.0              2.0        1.0   ...      \n",
       "\n",
       "    min_positive_polarity   max_positive_polarity   avg_negative_polarity  \\\n",
       "0                     0.1                     0.7                   -0.35   \n",
       "\n",
       "    min_negative_polarity   max_negative_polarity   title_subjectivity  \\\n",
       "0                    -0.6                    -0.2                  0.5   \n",
       "\n",
       "    title_sentiment_polarity   abs_title_subjectivity  \\\n",
       "0                    -0.1875                      0.0   \n",
       "\n",
       "    abs_title_sentiment_polarity   shares  \n",
       "0                         0.1875      593  \n",
       "\n",
       "[1 rows x 61 columns]"
      ]
     },
     "execution_count": 13,
     "metadata": {},
     "output_type": "execute_result"
    }
   ],
   "source": [
    "# Your code here.  Note the data and description are in the OnlineNewsPopularity directory\n",
    "# 1\n",
    "import pandas as pd\n",
    "df = pd.read_csv('OnlineNewsPopularity.csv')\n",
    "df[:1]"
   ]
  },
  {
   "cell_type": "code",
   "execution_count": 14,
   "metadata": {},
   "outputs": [
    {
     "data": {
      "text/plain": [
       "array([[ 1.20000000e+01,  2.19000000e+02,  6.63594467e-01,\n",
       "         9.99999992e-01,  8.15384609e-01,  4.00000000e+00,\n",
       "         2.00000000e+00,  1.00000000e+00,  0.00000000e+00,\n",
       "         4.68036530e+00,  5.00000000e+00,  0.00000000e+00,\n",
       "         1.00000000e+00,  0.00000000e+00,  0.00000000e+00,\n",
       "         0.00000000e+00,  0.00000000e+00,  0.00000000e+00,\n",
       "         0.00000000e+00,  0.00000000e+00,  0.00000000e+00,\n",
       "         0.00000000e+00,  0.00000000e+00,  0.00000000e+00,\n",
       "         0.00000000e+00,  0.00000000e+00,  4.96000000e+02,\n",
       "         4.96000000e+02,  4.96000000e+02,  1.00000000e+00,\n",
       "         0.00000000e+00,  0.00000000e+00,  0.00000000e+00,\n",
       "         0.00000000e+00,  0.00000000e+00,  0.00000000e+00,\n",
       "         0.00000000e+00,  5.00331204e-01,  3.78278930e-01,\n",
       "         4.00046751e-02,  4.12626477e-02,  4.01225435e-02,\n",
       "         5.21617145e-01,  9.25619835e-02,  4.56621005e-02,\n",
       "         1.36986301e-02,  7.69230769e-01,  2.30769231e-01,\n",
       "         3.78636364e-01,  1.00000000e-01,  7.00000000e-01,\n",
       "        -3.50000000e-01, -6.00000000e-01, -2.00000000e-01,\n",
       "         5.00000000e-01, -1.87500000e-01,  0.00000000e+00,\n",
       "         1.87500000e-01]])"
      ]
     },
     "execution_count": 14,
     "metadata": {},
     "output_type": "execute_result"
    }
   ],
   "source": [
    "# 2\n",
    "df = df.drop(df.columns[[0, 1]], axis=1)\n",
    "tempX = df.drop(df.columns[len(df.columns)-1], axis=1)\n",
    "X = tempX.as_matrix()\n",
    "X[:1]"
   ]
  },
  {
   "cell_type": "code",
   "execution_count": 15,
   "metadata": {},
   "outputs": [
    {
     "data": {
      "text/plain": [
       "array([0., 0., 1., 0., 0.])"
      ]
     },
     "execution_count": 15,
     "metadata": {},
     "output_type": "execute_result"
    }
   ],
   "source": [
    "# 3\n",
    "import numpy as np\n",
    "df_share = df[[' shares']]\n",
    "median = int(df_share.median())\n",
    "y = np.zeros(len(df_share))\n",
    "for i in range(len(y)):\n",
    "    if df_share.as_matrix()[i] > median:\n",
    "        y[i] = 1\n",
    "y[:5]"
   ]
  },
  {
   "cell_type": "markdown",
   "metadata": {},
   "source": [
    "### Task 2.2 Exploratory data analysis \n",
    "\n",
    "First check to see if the values are reasonable. What are the min, median, and maximum number of shares? "
   ]
  },
  {
   "cell_type": "code",
   "execution_count": 16,
   "metadata": {},
   "outputs": [
    {
     "data": {
      "text/html": [
       "<div>\n",
       "<style scoped>\n",
       "    .dataframe tbody tr th:only-of-type {\n",
       "        vertical-align: middle;\n",
       "    }\n",
       "\n",
       "    .dataframe tbody tr th {\n",
       "        vertical-align: top;\n",
       "    }\n",
       "\n",
       "    .dataframe thead th {\n",
       "        text-align: right;\n",
       "    }\n",
       "</style>\n",
       "<table border=\"1\" class=\"dataframe\">\n",
       "  <thead>\n",
       "    <tr style=\"text-align: right;\">\n",
       "      <th></th>\n",
       "      <th>shares</th>\n",
       "    </tr>\n",
       "  </thead>\n",
       "  <tbody>\n",
       "    <tr>\n",
       "      <th>count</th>\n",
       "      <td>39644.000000</td>\n",
       "    </tr>\n",
       "    <tr>\n",
       "      <th>mean</th>\n",
       "      <td>3395.380184</td>\n",
       "    </tr>\n",
       "    <tr>\n",
       "      <th>std</th>\n",
       "      <td>11626.950749</td>\n",
       "    </tr>\n",
       "    <tr>\n",
       "      <th>min</th>\n",
       "      <td>1.000000</td>\n",
       "    </tr>\n",
       "    <tr>\n",
       "      <th>25%</th>\n",
       "      <td>946.000000</td>\n",
       "    </tr>\n",
       "    <tr>\n",
       "      <th>50%</th>\n",
       "      <td>1400.000000</td>\n",
       "    </tr>\n",
       "    <tr>\n",
       "      <th>75%</th>\n",
       "      <td>2800.000000</td>\n",
       "    </tr>\n",
       "    <tr>\n",
       "      <th>max</th>\n",
       "      <td>843300.000000</td>\n",
       "    </tr>\n",
       "  </tbody>\n",
       "</table>\n",
       "</div>"
      ],
      "text/plain": [
       "              shares\n",
       "count   39644.000000\n",
       "mean     3395.380184\n",
       "std     11626.950749\n",
       "min         1.000000\n",
       "25%       946.000000\n",
       "50%      1400.000000\n",
       "75%      2800.000000\n",
       "max    843300.000000"
      ]
     },
     "execution_count": 16,
     "metadata": {},
     "output_type": "execute_result"
    }
   ],
   "source": [
    "# Your code here\n",
    "df[[' shares']].describe()"
   ]
  },
  {
   "cell_type": "markdown",
   "metadata": {},
   "source": [
    "### Task 2.3 Classification using k-NN\n",
    "\n",
    "Develop a k-NN classification model for the data. Use cross validation to choose the best value of k. What is the best accuracy you can obtain on the test data? "
   ]
  },
  {
   "cell_type": "code",
   "execution_count": 17,
   "metadata": {},
   "outputs": [
    {
     "name": "stdout",
     "output_type": "stream",
     "text": [
      "The best score is 0.570098890938447, its k value is 31\n"
     ]
    }
   ],
   "source": [
    "# Your code here\n",
    "best_score = [0, 0]\n",
    "for k in range(1, 101, 5): \n",
    "    clf = KNeighborsClassifier(n_neighbors=k)\n",
    "    scores = cross_val_score(estimator = clf, X = X, y = y, scoring='accuracy')\n",
    "    scores = scores.mean()\n",
    "    if scores > best_score[1]:\n",
    "        best_score[1] = scores\n",
    "        best_score[0] = k\n",
    "print('The best score is ' + str(best_score[1]) + ', its k value is ' + str(best_score[0]))"
   ]
  },
  {
   "cell_type": "code",
   "execution_count": 18,
   "metadata": {},
   "outputs": [
    {
     "name": "stdout",
     "output_type": "stream",
     "text": [
      "Accuracy =  0.5636271913229915\n",
      "Confusion Matrix:\n",
      "[[10433  5538]\n",
      " [ 8302  7443]]\n"
     ]
    }
   ],
   "source": [
    "X_train, X_test, y_train, y_test = train_test_split(X, y, random_state=1, test_size=0.8)\n",
    "clf = KNeighborsClassifier(n_neighbors=best_score[0])\n",
    "clf.fit(X_train, y_train)\n",
    "y_pred = clf.predict(X_test)\n",
    "print('Accuracy = ', metrics.accuracy_score(y_true = y_test, y_pred = y_pred))\n",
    "print('Confusion Matrix:')\n",
    "print(metrics.confusion_matrix(y_true = y_test, y_pred = y_pred))"
   ]
  },
  {
   "cell_type": "markdown",
   "metadata": {},
   "source": [
    "**Interpretation:** \n",
    "\n",
    "So the best score is when k is 31. And the accuracy is about 0.56"
   ]
  },
  {
   "cell_type": "markdown",
   "metadata": {},
   "source": [
    "### Task 2.4 Classification using SVM\n",
    "\n",
    "Develop a support vector machine classification model for the data. \n",
    " \n",
    " * SVM is computationally expensive, so start by using only a fraction of the data, say 5,000 articles. \n",
    " * Experimt with different Cs. Which is the best value for C?\n",
    "\n",
    "Note that it takes multiple minutes per value of C to run on the whole dataset!"
   ]
  },
  {
   "cell_type": "code",
   "execution_count": 19,
   "metadata": {},
   "outputs": [
    {
     "name": "stdout",
     "output_type": "stream",
     "text": [
      "The best score is 0.5065583701330846, its C value is 1\n"
     ]
    }
   ],
   "source": [
    "# Your code here\n",
    "best_score = [0, 0]\n",
    "for i in range(1, 12, 5):\n",
    "    model = svm.SVC(kernel='rbf',C=i)\n",
    "    scores = cross_val_score(estimator = model, X = X, y = y, scoring='accuracy')\n",
    "    scores = scores.mean()\n",
    "    if scores > best_score[1]:\n",
    "        best_score[1] = scores\n",
    "        best_score[0] = i\n",
    "print('The best score is ' + str(best_score[1]) + ', its C value is ' + str(best_score[0]))"
   ]
  },
  {
   "cell_type": "code",
   "execution_count": 20,
   "metadata": {},
   "outputs": [
    {
     "name": "stdout",
     "output_type": "stream",
     "text": [
      "Accuracy =  0.5035628704754698\n",
      "Confusion Matrix:\n",
      "[[15971     0]\n",
      " [15745     0]]\n"
     ]
    }
   ],
   "source": [
    "X_train, X_test, y_train, y_test = train_test_split(X, y, random_state=1, test_size=0.8)\n",
    "model = svm.SVC(kernel='rbf',C=best_score[0])\n",
    "model.fit(X_train, y_train)\n",
    "y_pred = model.predict(X_test)\n",
    "print('Accuracy = ', metrics.accuracy_score(y_true = y_test, y_pred = y_pred))\n",
    "print('Confusion Matrix:')\n",
    "print(metrics.confusion_matrix(y_true = y_test, y_pred = y_pred))"
   ]
  },
  {
   "cell_type": "markdown",
   "metadata": {},
   "source": [
    "### Task 2.5 Classification using decision trees\n",
    "\n",
    "Develop a decision tree classification model for the data. \n",
    "\n",
    "Use cross validation to choose good values of the max tree depth (*max_depth*) and minimum samples split (*min_samples_split*). "
   ]
  },
  {
   "cell_type": "code",
   "execution_count": 21,
   "metadata": {},
   "outputs": [
    {
     "name": "stdout",
     "output_type": "stream",
     "text": [
      "The best score is 0.5942393406993347, its max_depth is 1, its min_samples_split is 2\n"
     ]
    }
   ],
   "source": [
    "# Your code here\n",
    "from sklearn import tree\n",
    "\n",
    "best_score = [0, 0, 0]\n",
    "for i in range(1, 22, 3):\n",
    "    for j in range(2, 23, 3):\n",
    "        decisionTree = tree.DecisionTreeClassifier(max_depth=i, min_samples_split=j)\n",
    "        scores = cross_val_score(estimator = decisionTree, X = X, y = y, scoring='accuracy')\n",
    "        scores = scores.mean()\n",
    "        if scores > best_score[1]:\n",
    "            best_score[2] = scores\n",
    "            best_score[0] = i\n",
    "            best_score[1] = j\n",
    "print('The best score is ' + str(best_score[2]) + ', its max_depth is ' + str(best_score[0])\n",
    "     + ', its min_samples_split is ' + str(best_score[1]))"
   ]
  },
  {
   "cell_type": "code",
   "execution_count": 22,
   "metadata": {},
   "outputs": [
    {
     "name": "stdout",
     "output_type": "stream",
     "text": [
      "Accuracy =  0.5933282885609786\n",
      "Confusion Matrix:\n",
      "[[9045 6926]\n",
      " [5972 9773]]\n"
     ]
    }
   ],
   "source": [
    "X_train, X_test, y_train, y_test = train_test_split(X, y, random_state=1, test_size=0.8)\n",
    "decisionTree = tree.DecisionTreeClassifier(max_depth=best_score[0], \n",
    "                                           min_samples_split=best_score[1])\n",
    "decisionTree.fit(X_train, y_train)\n",
    "y_pred = decisionTree.predict(X_test)\n",
    "print('Accuracy = ', metrics.accuracy_score(y_true = y_test, y_pred = y_pred))\n",
    "print('Confusion Matrix:')\n",
    "print(metrics.confusion_matrix(y_true = y_test, y_pred = y_pred))"
   ]
  },
  {
   "cell_type": "markdown",
   "metadata": {},
   "source": [
    "### Task 2.6 Describe your findings\n",
    "1. Which method (k-NN, SVM, Decision Tree) worked best?\n",
    "+ How did different parameters influence the accuracy?\n",
    "+ Which model is easiest do interpret?\n",
    "+ How would you interpret your results?\n"
   ]
  },
  {
   "cell_type": "markdown",
   "metadata": {},
   "source": [
    "#### 1:\n",
    "From the results above, decision tree works best with a best score of 0.59 while knn is 0.57 and svm is 0.50\n",
    "\n",
    "#### 2:\n",
    "For knn, at the beginning, with k increases, the accuracy increases as well, once the k is bigger than 31, the accuracy decreases with the increase of k\n",
    "\n",
    "For svm, C value does not affect the accuracy.\n",
    "\n",
    "For decision tree, if the min_samples_split doesn't change, increase the max_depth will increase the accuracy, once the max_depth is bigger than a value, the accuracy will decrease. If the max_depth doesn't change, the change of the min_samples_split doesn't affect the accuracy.\n",
    "\n",
    "#### 3:\n",
    "KNN is the easiest one, it only has one parameter and runs faster. And the result is pretty straightforward.\n",
    "\n",
    "#### 4:\n",
    "SVM doesn't have different accuracy for different c values so it's easy to find the best accuracy. Decision tree has the best accuracy but it need to be tested with differnt parameters. KNN just has one parameter and its accuracy is better than SVM but worse than decision tree."
   ]
  }
 ],
 "metadata": {
  "anaconda-cloud": {},
  "kernelspec": {
   "display_name": "Python 3",
   "language": "python",
   "name": "python3"
  },
  "language_info": {
   "codemirror_mode": {
    "name": "ipython",
    "version": 3
   },
   "file_extension": ".py",
   "mimetype": "text/x-python",
   "name": "python",
   "nbconvert_exporter": "python",
   "pygments_lexer": "ipython3",
   "version": "3.6.5"
  }
 },
 "nbformat": 4,
 "nbformat_minor": 2
}
